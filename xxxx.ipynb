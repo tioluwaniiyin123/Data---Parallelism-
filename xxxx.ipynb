{
  "nbformat": 4,
  "nbformat_minor": 0,
  "metadata": {
    "colab": {
      "provenance": [],
      "authorship_tag": "ABX9TyPcUyXu3nXER/0Cm0BEDxmv",
      "include_colab_link": true
    },
    "kernelspec": {
      "name": "python3",
      "display_name": "Python 3"
    },
    "language_info": {
      "name": "python"
    }
  },
  "cells": [
    {
      "cell_type": "markdown",
      "metadata": {
        "id": "view-in-github",
        "colab_type": "text"
      },
      "source": [
        "<a href=\"https://colab.research.google.com/github/tioluwaniiyin123/Data---Parallelism-/blob/main/xxxx.ipynb\" target=\"_parent\"><img src=\"https://colab.research.google.com/assets/colab-badge.svg\" alt=\"Open In Colab\"/></a>"
      ]
    },
    {
      "cell_type": "code",
      "execution_count": 1,
      "metadata": {
        "colab": {
          "base_uri": "https://localhost:8080/"
        },
        "collapsed": true,
        "id": "3ja0biEgly9Q",
        "outputId": "139c4ac7-a10b-4888-fec2-a0f02cd123c8"
      },
      "outputs": [
        {
          "output_type": "stream",
          "name": "stdout",
          "text": [
            "--2025-10-08 21:21:13--  https://raw.githubusercontent.com/dionhaefner/pyhpc-benchmarks/master/benchmarks/equation_of_state/eos_numpy.py\n",
            "Resolving raw.githubusercontent.com (raw.githubusercontent.com)... 185.199.108.133, 185.199.109.133, 185.199.110.133, ...\n",
            "Connecting to raw.githubusercontent.com (raw.githubusercontent.com)|185.199.108.133|:443... connected.\n",
            "HTTP request sent, awaiting response... 200 OK\n",
            "Length: 6783 (6.6K) [text/plain]\n",
            "Saving to: ‘eos_numpy.py’\n",
            "\n",
            "eos_numpy.py        100%[===================>]   6.62K  --.-KB/s    in 0s      \n",
            "\n",
            "2025-10-08 21:21:13 (85.3 MB/s) - ‘eos_numpy.py’ saved [6783/6783]\n",
            "\n",
            "--2025-10-08 21:21:13--  https://raw.githubusercontent.com/dionhaefner/pyhpc-benchmarks/master/benchmarks/equation_of_state/eos_pytorch.py\n",
            "Resolving raw.githubusercontent.com (raw.githubusercontent.com)... 185.199.108.133, 185.199.109.133, 185.199.110.133, ...\n",
            "Connecting to raw.githubusercontent.com (raw.githubusercontent.com)|185.199.108.133|:443... connected.\n",
            "HTTP request sent, awaiting response... 200 OK\n",
            "Length: 7318 (7.1K) [text/plain]\n",
            "Saving to: ‘eos_pytorch.py’\n",
            "\n",
            "eos_pytorch.py      100%[===================>]   7.15K  --.-KB/s    in 0s      \n",
            "\n",
            "2025-10-08 21:21:13 (56.6 MB/s) - ‘eos_pytorch.py’ saved [7318/7318]\n",
            "\n"
          ]
        }
      ],
      "source": [
        "# EOS NumPy version\n",
        "!wget https://raw.githubusercontent.com/dionhaefner/pyhpc-benchmarks/master/benchmarks/equation_of_state/eos_numpy.py\n",
        "\n",
        "# EOS PyTorch version\n",
        "!wget https://raw.githubusercontent.com/dionhaefner/pyhpc-benchmarks/master/benchmarks/equation_of_state/eos_pytorch.py\n"
      ]
    },
    {
      "cell_type": "code",
      "source": [
        "import torch\n",
        "print(f\"PyTorch Version: {torch.__version__}\")\n",
        "\n",
        "print(f\"CUDA Available: {torch.cuda.is_available()}\")\n",
        "\n",
        "if torch.cuda.is_available():\n",
        "\n",
        "    print(f\"CUDA Device Name: {torch.cuda.get_device_name(0)}\")"
      ],
      "metadata": {
        "colab": {
          "base_uri": "https://localhost:8080/"
        },
        "id": "8rJV5rerfxzT",
        "outputId": "3c316399-2142-4c09-a6e4-011cbed79296"
      },
      "execution_count": 2,
      "outputs": [
        {
          "output_type": "stream",
          "name": "stdout",
          "text": [
            "PyTorch Version: 2.8.0+cu126\n",
            "CUDA Available: False\n"
          ]
        }
      ]
    },
    {
      "cell_type": "code",
      "source": [
        "# Run NumPy benchmark\n",
        "!python eos_numpy.py\n",
        "\n",
        "# Run PyTorch benchmark\n",
        "!python eos_pytorch.py\n"
      ],
      "metadata": {
        "id": "Lpr_w4Nhl6fv"
      },
      "execution_count": 3,
      "outputs": []
    },
    {
      "cell_type": "code",
      "source": [
        "import time\n",
        "start = time.time()\n",
        "!python eos_numpy.py\n",
        "end = time.time()\n",
        "\n",
        "numpy_execution_time = end - start\n",
        "print(f\"Execution Time (numpy on CPU ): {numpy_execution_time:.4f} seconds\")"
      ],
      "metadata": {
        "colab": {
          "base_uri": "https://localhost:8080/"
        },
        "id": "eJPvDv0qtJkF",
        "outputId": "3cfed56a-7492-41e2-fb09-fdfd0a0410a7"
      },
      "execution_count": 4,
      "outputs": [
        {
          "output_type": "stream",
          "name": "stdout",
          "text": [
            "Execution Time (numpy on CPU ): 0.2056 seconds\n"
          ]
        }
      ]
    },
    {
      "cell_type": "code",
      "source": [
        "\n",
        "import time\n",
        "start = time.time()\n",
        "!python eos_pytorch.py\n",
        "end = time.time()\n",
        "\n",
        "torch_cpu_time = end - start\n",
        "print(f\" Execution Time (PyTorch on CPU): {torch_cpu_time:.4f} seconds\")\n"
      ],
      "metadata": {
        "colab": {
          "base_uri": "https://localhost:8080/"
        },
        "id": "2iE-nwFNjKGS",
        "outputId": "d03d4bff-1f4b-42d4-81ac-ad6bba1b7266"
      },
      "execution_count": 5,
      "outputs": [
        {
          "output_type": "stream",
          "name": "stdout",
          "text": [
            " Execution Time (PyTorch on CPU): 2.4133 seconds\n"
          ]
        }
      ]
    }
  ]
}