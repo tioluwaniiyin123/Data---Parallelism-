{
  "nbformat": 4,
  "nbformat_minor": 0,
  "metadata": {
    "colab": {
      "provenance": [],
      "gpuType": "A100",
      "authorship_tag": "ABX9TyMjjBApPZ8Pbe/E3iZeRICN",
      "include_colab_link": true
    },
    "kernelspec": {
      "name": "python3",
      "display_name": "Python 3"
    },
    "language_info": {
      "name": "python"
    },
    "accelerator": "GPU"
  },
  "cells": [
    {
      "cell_type": "markdown",
      "metadata": {
        "id": "view-in-github",
        "colab_type": "text"
      },
      "source": [
        "<a href=\"https://colab.research.google.com/github/tioluwaniiyin123/Data---Parallelism-/blob/main/eos_numpy.py%20and%20eos_pytorch.py%20A100.ipynb\" target=\"_parent\"><img src=\"https://colab.research.google.com/assets/colab-badge.svg\" alt=\"Open In Colab\"/></a>"
      ]
    },
    {
      "cell_type": "code",
      "execution_count": 1,
      "metadata": {
        "colab": {
          "base_uri": "https://localhost:8080/"
        },
        "collapsed": true,
        "id": "3ja0biEgly9Q",
        "outputId": "48009615-df1d-40c9-8e4c-db1352953ae7"
      },
      "outputs": [
        {
          "output_type": "stream",
          "name": "stdout",
          "text": [
            "--2025-10-08 01:00:11--  https://raw.githubusercontent.com/dionhaefner/pyhpc-benchmarks/master/benchmarks/equation_of_state/eos_numpy.py\n",
            "Resolving raw.githubusercontent.com (raw.githubusercontent.com)... 185.199.108.133, 185.199.109.133, 185.199.110.133, ...\n",
            "Connecting to raw.githubusercontent.com (raw.githubusercontent.com)|185.199.108.133|:443... connected.\n",
            "HTTP request sent, awaiting response... 200 OK\n",
            "Length: 6783 (6.6K) [text/plain]\n",
            "Saving to: ‘eos_numpy.py’\n",
            "\n",
            "eos_numpy.py        100%[===================>]   6.62K  --.-KB/s    in 0s      \n",
            "\n",
            "2025-10-08 01:00:11 (83.1 MB/s) - ‘eos_numpy.py’ saved [6783/6783]\n",
            "\n",
            "--2025-10-08 01:00:11--  https://raw.githubusercontent.com/dionhaefner/pyhpc-benchmarks/master/benchmarks/equation_of_state/eos_pytorch.py\n",
            "Resolving raw.githubusercontent.com (raw.githubusercontent.com)... 185.199.108.133, 185.199.109.133, 185.199.110.133, ...\n",
            "Connecting to raw.githubusercontent.com (raw.githubusercontent.com)|185.199.108.133|:443... connected.\n",
            "HTTP request sent, awaiting response... 200 OK\n",
            "Length: 7318 (7.1K) [text/plain]\n",
            "Saving to: ‘eos_pytorch.py’\n",
            "\n",
            "eos_pytorch.py      100%[===================>]   7.15K  --.-KB/s    in 0s      \n",
            "\n",
            "2025-10-08 01:00:11 (127 MB/s) - ‘eos_pytorch.py’ saved [7318/7318]\n",
            "\n"
          ]
        }
      ],
      "source": [
        "# EOS NumPy version\n",
        "!wget https://raw.githubusercontent.com/dionhaefner/pyhpc-benchmarks/master/benchmarks/equation_of_state/eos_numpy.py\n",
        "\n",
        "# EOS PyTorch version\n",
        "!wget https://raw.githubusercontent.com/dionhaefner/pyhpc-benchmarks/master/benchmarks/equation_of_state/eos_pytorch.py\n"
      ]
    },
    {
      "cell_type": "code",
      "source": [
        "# Run NumPy benchmark\n",
        "!python eos_numpy.py\n",
        "\n",
        "# Run PyTorch benchmark\n",
        "!python eos_pytorch.py\n"
      ],
      "metadata": {
        "id": "Lpr_w4Nhl6fv"
      },
      "execution_count": 2,
      "outputs": []
    },
    {
      "cell_type": "code",
      "source": [
        "import time\n",
        "start = time.time()\n",
        "!python eos_numpy.py\n",
        "end = time.time()\n",
        "execution_time = end - start\n",
        "print(f\"Execution Time (numpy on A100 GPU ): {execution_time:6f} seconds\")"
      ],
      "metadata": {
        "colab": {
          "base_uri": "https://localhost:8080/"
        },
        "id": "eJPvDv0qtJkF",
        "outputId": "df5ac846-76bb-4534-ba8e-5d321f26a419"
      },
      "execution_count": 3,
      "outputs": [
        {
          "output_type": "stream",
          "name": "stdout",
          "text": [
            "Execution Time (numpy on A100 GPU ): 0.203320 seconds\n"
          ]
        }
      ]
    },
    {
      "cell_type": "code",
      "source": [
        "import torch\n",
        "\n",
        "\n",
        "start = time.time()\n",
        "!python eos_pytorch.py\n",
        "end = time.time()\n",
        "execution_time = end - start\n",
        "print(f\"Execution Time (PyTorch on A100):  {execution_time:6f} seconds \")"
      ],
      "metadata": {
        "colab": {
          "base_uri": "https://localhost:8080/"
        },
        "id": "0UunhVTetOLn",
        "outputId": "6c1010b2-3769-4603-c07d-9ecbb73453c1"
      },
      "execution_count": 4,
      "outputs": [
        {
          "output_type": "stream",
          "name": "stdout",
          "text": [
            "Execution Time (PyTorch on A100):  2.010865 seconds \n"
          ]
        }
      ]
    }
  ]
}