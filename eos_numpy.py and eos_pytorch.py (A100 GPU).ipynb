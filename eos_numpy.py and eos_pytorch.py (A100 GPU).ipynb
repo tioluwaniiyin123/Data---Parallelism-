{
  "nbformat": 4,
  "nbformat_minor": 0,
  "metadata": {
    "colab": {
      "provenance": [],
      "gpuType": "A100",
      "authorship_tag": "ABX9TyPcUyXu3nXER/0Cm0BEDxmv",
      "include_colab_link": true
    },
    "kernelspec": {
      "name": "python3",
      "display_name": "Python 3"
    },
    "language_info": {
      "name": "python"
    },
    "accelerator": "GPU"
  },
  "cells": [
    {
      "cell_type": "markdown",
      "metadata": {
        "id": "view-in-github",
        "colab_type": "text"
      },
      "source": [
        "<a href=\"https://colab.research.google.com/github/tioluwaniiyin123/Data---Parallelism-/blob/main/eos_numpy.py%20and%20eos_pytorch.py%20(A100%20GPU).ipynb\" target=\"_parent\"><img src=\"https://colab.research.google.com/assets/colab-badge.svg\" alt=\"Open In Colab\"/></a>"
      ]
    },
    {
      "cell_type": "code",
      "execution_count": null,
      "metadata": {
        "colab": {
          "base_uri": "https://localhost:8080/"
        },
        "collapsed": true,
        "id": "3ja0biEgly9Q",
        "outputId": "1f07ba80-aa52-4706-9325-9de06be21e2b"
      },
      "outputs": [
        {
          "output_type": "stream",
          "name": "stdout",
          "text": [
            "--2025-10-08 21:14:16--  https://raw.githubusercontent.com/dionhaefner/pyhpc-benchmarks/master/benchmarks/equation_of_state/eos_numpy.py\n",
            "Resolving raw.githubusercontent.com (raw.githubusercontent.com)... 185.199.108.133, 185.199.109.133, 185.199.110.133, ...\n",
            "Connecting to raw.githubusercontent.com (raw.githubusercontent.com)|185.199.108.133|:443... connected.\n",
            "HTTP request sent, awaiting response... 200 OK\n",
            "Length: 6783 (6.6K) [text/plain]\n",
            "Saving to: ‘eos_numpy.py’\n",
            "\n",
            "eos_numpy.py        100%[===================>]   6.62K  --.-KB/s    in 0s      \n",
            "\n",
            "2025-10-08 21:14:16 (113 MB/s) - ‘eos_numpy.py’ saved [6783/6783]\n",
            "\n",
            "--2025-10-08 21:14:16--  https://raw.githubusercontent.com/dionhaefner/pyhpc-benchmarks/master/benchmarks/equation_of_state/eos_pytorch.py\n",
            "Resolving raw.githubusercontent.com (raw.githubusercontent.com)... 185.199.108.133, 185.199.109.133, 185.199.110.133, ...\n",
            "Connecting to raw.githubusercontent.com (raw.githubusercontent.com)|185.199.108.133|:443... connected.\n",
            "HTTP request sent, awaiting response... 200 OK\n",
            "Length: 7318 (7.1K) [text/plain]\n",
            "Saving to: ‘eos_pytorch.py’\n",
            "\n",
            "eos_pytorch.py      100%[===================>]   7.15K  --.-KB/s    in 0s      \n",
            "\n",
            "2025-10-08 21:14:17 (99.3 MB/s) - ‘eos_pytorch.py’ saved [7318/7318]\n",
            "\n"
          ]
        }
      ],
      "source": [
        "# EOS NumPy version\n",
        "!wget https://raw.githubusercontent.com/dionhaefner/pyhpc-benchmarks/master/benchmarks/equation_of_state/eos_numpy.py\n",
        "\n",
        "# EOS PyTorch version\n",
        "!wget https://raw.githubusercontent.com/dionhaefner/pyhpc-benchmarks/master/benchmarks/equation_of_state/eos_pytorch.py\n"
      ]
    },
    {
      "cell_type": "code",
      "source": [
        "import torch\n",
        "print(f\"PyTorch Version: {torch.__version__}\")\n",
        "\n",
        "print(f\"CUDA Available: {torch.cuda.is_available()}\")\n",
        "\n",
        "if torch.cuda.is_available():\n",
        "\n",
        "    print(f\"CUDA Device Name: {torch.cuda.get_device_name(0)}\")"
      ],
      "metadata": {
        "colab": {
          "base_uri": "https://localhost:8080/"
        },
        "id": "8rJV5rerfxzT",
        "outputId": "86e18426-042e-4396-d53e-0d17e9bc5e24"
      },
      "execution_count": null,
      "outputs": [
        {
          "output_type": "stream",
          "name": "stdout",
          "text": [
            "PyTorch Version: 2.8.0+cu126\n",
            "CUDA Available: True\n",
            "CUDA Device Name: NVIDIA A100-SXM4-40GB\n"
          ]
        }
      ]
    },
    {
      "cell_type": "code",
      "source": [
        "# Run NumPy benchmark\n",
        "!python eos_numpy.py\n",
        "\n",
        "# Run PyTorch benchmark\n",
        "!python eos_pytorch.py\n"
      ],
      "metadata": {
        "id": "Lpr_w4Nhl6fv"
      },
      "execution_count": null,
      "outputs": []
    },
    {
      "cell_type": "code",
      "source": [
        "import time\n",
        "start = time.time()\n",
        "!python eos_numpy.py\n",
        "end = time.time()\n",
        "\n",
        "numpy_execution_time = end - start\n",
        "print(f\"Execution Time (numpy on CPU ): {numpy_execution_time:.4f} seconds\")"
      ],
      "metadata": {
        "colab": {
          "base_uri": "https://localhost:8080/"
        },
        "id": "eJPvDv0qtJkF",
        "outputId": "ecbc8c33-84f0-42bc-8702-fa9750b59dda"
      },
      "execution_count": null,
      "outputs": [
        {
          "output_type": "stream",
          "name": "stdout",
          "text": [
            "Execution Time (numpy on CPU ): 0.2052 seconds\n"
          ]
        }
      ]
    },
    {
      "cell_type": "code",
      "source": [
        "\n",
        "import time\n",
        "start = time.time()\n",
        "!python eos_pytorch.py\n",
        "end = time.time()\n",
        "\n",
        "torch_cpu_time = end - start\n",
        "print(f\" Execution Time (PyTorch on CPU): {torch_cpu_time:.4f} seconds\")\n"
      ],
      "metadata": {
        "colab": {
          "base_uri": "https://localhost:8080/"
        },
        "id": "2iE-nwFNjKGS",
        "outputId": "478757ec-a61a-4c5c-f735-12e56cd32df3"
      },
      "execution_count": null,
      "outputs": [
        {
          "output_type": "stream",
          "name": "stdout",
          "text": [
            " Execution Time (PyTorch on CPU): 2.1088 seconds\n"
          ]
        }
      ]
    }
  ]
}